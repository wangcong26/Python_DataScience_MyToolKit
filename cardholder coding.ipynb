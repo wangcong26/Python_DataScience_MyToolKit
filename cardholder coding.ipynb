{
 "cells": [
  {
   "cell_type": "code",
   "execution_count": 79,
   "metadata": {},
   "outputs": [],
   "source": [
    "# import\n",
    "import pandas as pd\n",
    "import numpy as np"
   ]
  },
  {
   "cell_type": "code",
   "execution_count": 80,
   "metadata": {},
   "outputs": [],
   "source": [
    "# read to excel\n",
    "card=pd.read_excel('Cardholder categories for coding.xlsx')"
   ]
  },
  {
   "cell_type": "code",
   "execution_count": 46,
   "metadata": {},
   "outputs": [
    {
     "data": {
      "text/html": [
       "<div>\n",
       "<style scoped>\n",
       "    .dataframe tbody tr th:only-of-type {\n",
       "        vertical-align: middle;\n",
       "    }\n",
       "\n",
       "    .dataframe tbody tr th {\n",
       "        vertical-align: top;\n",
       "    }\n",
       "\n",
       "    .dataframe thead th {\n",
       "        text-align: right;\n",
       "    }\n",
       "</style>\n",
       "<table border=\"1\" class=\"dataframe\">\n",
       "  <thead>\n",
       "    <tr style=\"text-align: right;\">\n",
       "      <th></th>\n",
       "      <th>record</th>\n",
       "      <th>RID</th>\n",
       "      <th>Client_Major_2_txt_cardh_minor_industry</th>\n",
       "      <th>Client_Major_2_txt_Client_Original</th>\n",
       "      <th>Client_Major_2_txt_amt_last_sale</th>\n",
       "    </tr>\n",
       "  </thead>\n",
       "  <tbody>\n",
       "    <tr>\n",
       "      <th>0</th>\n",
       "      <td>5</td>\n",
       "      <td>NaN</td>\n",
       "      <td>NaN</td>\n",
       "      <td>NaN</td>\n",
       "      <td>NaN</td>\n",
       "    </tr>\n",
       "    <tr>\n",
       "      <th>1</th>\n",
       "      <td>30</td>\n",
       "      <td>NaN</td>\n",
       "      <td>NaN</td>\n",
       "      <td>NaN</td>\n",
       "      <td>NaN</td>\n",
       "    </tr>\n",
       "    <tr>\n",
       "      <th>2</th>\n",
       "      <td>41</td>\n",
       "      <td>NaN</td>\n",
       "      <td>NaN</td>\n",
       "      <td>NaN</td>\n",
       "      <td>NaN</td>\n",
       "    </tr>\n",
       "    <tr>\n",
       "      <th>3</th>\n",
       "      <td>21</td>\n",
       "      <td>NaN</td>\n",
       "      <td>NaN</td>\n",
       "      <td>NaN</td>\n",
       "      <td>NaN</td>\n",
       "    </tr>\n",
       "    <tr>\n",
       "      <th>4</th>\n",
       "      <td>53</td>\n",
       "      <td>NaN</td>\n",
       "      <td>NaN</td>\n",
       "      <td>NaN</td>\n",
       "      <td>NaN</td>\n",
       "    </tr>\n",
       "  </tbody>\n",
       "</table>\n",
       "</div>"
      ],
      "text/plain": [
       "   record  RID Client_Major_2_txt_cardh_minor_industry  \\\n",
       "0       5  NaN                                     NaN   \n",
       "1      30  NaN                                     NaN   \n",
       "2      41  NaN                                     NaN   \n",
       "3      21  NaN                                     NaN   \n",
       "4      53  NaN                                     NaN   \n",
       "\n",
       "  Client_Major_2_txt_Client_Original  Client_Major_2_txt_amt_last_sale  \n",
       "0                                NaN                               NaN  \n",
       "1                                NaN                               NaN  \n",
       "2                                NaN                               NaN  \n",
       "3                                NaN                               NaN  \n",
       "4                                NaN                               NaN  "
      ]
     },
     "execution_count": 46,
     "metadata": {},
     "output_type": "execute_result"
    }
   ],
   "source": [
    "card.head()"
   ]
  },
  {
   "cell_type": "code",
   "execution_count": 47,
   "metadata": {},
   "outputs": [
    {
     "data": {
      "text/plain": [
       "Furniture                     1554\n",
       "Electronics                    924\n",
       "Auto                           601\n",
       "Specialty Group                364\n",
       "Music                          218\n",
       "Luxury                         216\n",
       "Flooring                       208\n",
       "Emerging Markets               150\n",
       "Lawn & Garden                   87\n",
       "HVAC                            62\n",
       "Home Improvement Revolving      36\n",
       "Name: Client_Major_2_txt_cardh_minor_industry, dtype: int64"
      ]
     },
     "execution_count": 47,
     "metadata": {},
     "output_type": "execute_result"
    }
   ],
   "source": [
    "card['Client_Major_2_txt_cardh_minor_industry'].value_counts()"
   ]
  },
  {
   "cell_type": "code",
   "execution_count": 48,
   "metadata": {},
   "outputs": [],
   "source": [
    "# function to recod industry\n",
    "def recodeIndustry(x):\n",
    "    if x=='Furniture':\n",
    "        return 1\n",
    "    elif x=='Electronics':\n",
    "        return 2\n",
    "    elif x=='Auto':\n",
    "        return 3\n",
    "    elif x=='Specialty Group':\n",
    "        return 4\n",
    "    elif x=='Music':\n",
    "        return 5\n",
    "    elif x=='Luxury':\n",
    "        return 6\n",
    "    elif x=='Flooring':\n",
    "        return 7\n",
    "    elif x=='Emerging Markets':\n",
    "        return 8\n",
    "    elif x=='Lawn & Garden':\n",
    "        return 9\n",
    "    elif x=='HVAC':\n",
    "        return 10\n",
    "    elif x=='Home Improvement Revolving':\n",
    "        return 11"
   ]
  },
  {
   "cell_type": "code",
   "execution_count": 81,
   "metadata": {},
   "outputs": [],
   "source": [
    "# recode industry\n",
    "card['CH_Industry']=card['Client_Major_2_txt_cardh_minor_industry'].apply(recodeIndustry)"
   ]
  },
  {
   "cell_type": "code",
   "execution_count": 82,
   "metadata": {},
   "outputs": [
    {
     "data": {
      "text/plain": [
       "187"
      ]
     },
     "execution_count": 82,
     "metadata": {},
     "output_type": "execute_result"
    }
   ],
   "source": [
    "# check how many unique item we have\n",
    "len(card['Client_Major_2_txt_Client_Original'].value_counts())"
   ]
  },
  {
   "cell_type": "code",
   "execution_count": 51,
   "metadata": {},
   "outputs": [],
   "source": [
    "major_text=card['Client_Major_2_txt_Client_Original'].value_counts()"
   ]
  },
  {
   "cell_type": "code",
   "execution_count": 83,
   "metadata": {},
   "outputs": [],
   "source": [
    "# export to excel\n",
    "major_text.to_excel('text.xlsx')"
   ]
  },
  {
   "cell_type": "code",
   "execution_count": 84,
   "metadata": {},
   "outputs": [
    {
     "data": {
      "text/plain": [
       "numpy.ndarray"
      ]
     },
     "execution_count": 84,
     "metadata": {},
     "output_type": "execute_result"
    }
   ],
   "source": [
    "# Get unique value and check its type\n",
    "unique=card['Client_Major_2_txt_Client_Original'].unique()\n",
    "type(unique)"
   ]
  },
  {
   "cell_type": "code",
   "execution_count": null,
   "metadata": {},
   "outputs": [],
   "source": []
  },
  {
   "cell_type": "code",
   "execution_count": 85,
   "metadata": {},
   "outputs": [
    {
     "data": {
      "text/plain": [
       "188"
      ]
     },
     "execution_count": 85,
     "metadata": {},
     "output_type": "execute_result"
    }
   ],
   "source": [
    "# convert it to list and check length\n",
    "uniqueList=unique.tolist()\n",
    "len(uniqueList)"
   ]
  },
  {
   "cell_type": "code",
   "execution_count": 86,
   "metadata": {},
   "outputs": [],
   "source": [
    "# delete the first element which is NaN\n",
    "# del uniqueList[0]\n",
    "# uniqueList[10]"
   ]
  },
  {
   "cell_type": "code",
   "execution_count": 87,
   "metadata": {
    "scrolled": false
   },
   "outputs": [],
   "source": [
    "# uniqueList\n",
    "# note: this has a nan in the list"
   ]
  },
  {
   "cell_type": "code",
   "execution_count": 88,
   "metadata": {},
   "outputs": [
    {
     "data": {
      "text/plain": [
       "13"
      ]
     },
     "execution_count": 88,
     "metadata": {},
     "output_type": "execute_result"
    }
   ],
   "source": [
    "# return the index of the list\n",
    "uniqueList.index('ABC WAREHOUSE')"
   ]
  },
  {
   "cell_type": "code",
   "execution_count": 89,
   "metadata": {},
   "outputs": [],
   "source": [
    "def recodeClient(x):\n",
    "    return uniqueList.index(x)"
   ]
  },
  {
   "cell_type": "code",
   "execution_count": 90,
   "metadata": {},
   "outputs": [],
   "source": [
    "card['Client Major']=card['Client_Major_2_txt_Client_Original'].apply(recodeClient)"
   ]
  },
  {
   "cell_type": "code",
   "execution_count": 91,
   "metadata": {},
   "outputs": [
    {
     "data": {
      "text/html": [
       "<div>\n",
       "<style scoped>\n",
       "    .dataframe tbody tr th:only-of-type {\n",
       "        vertical-align: middle;\n",
       "    }\n",
       "\n",
       "    .dataframe tbody tr th {\n",
       "        vertical-align: top;\n",
       "    }\n",
       "\n",
       "    .dataframe thead th {\n",
       "        text-align: right;\n",
       "    }\n",
       "</style>\n",
       "<table border=\"1\" class=\"dataframe\">\n",
       "  <thead>\n",
       "    <tr style=\"text-align: right;\">\n",
       "      <th></th>\n",
       "      <th>record</th>\n",
       "      <th>RID</th>\n",
       "      <th>Client_Major_2_txt_cardh_minor_industry</th>\n",
       "      <th>Client_Major_2_txt_Client_Original</th>\n",
       "      <th>Client_Major_2_txt_amt_last_sale</th>\n",
       "      <th>CH_Industry</th>\n",
       "      <th>Client Major</th>\n",
       "    </tr>\n",
       "  </thead>\n",
       "  <tbody>\n",
       "    <tr>\n",
       "      <th>5416</th>\n",
       "      <td>31819</td>\n",
       "      <td>14038407.0</td>\n",
       "      <td>Auto</td>\n",
       "      <td>CARX/SYNCHRONY CAR CARE</td>\n",
       "      <td>525.51</td>\n",
       "      <td>3.0</td>\n",
       "      <td>9</td>\n",
       "    </tr>\n",
       "    <tr>\n",
       "      <th>5417</th>\n",
       "      <td>31831</td>\n",
       "      <td>30042204.0</td>\n",
       "      <td>Electronics</td>\n",
       "      <td>SYNCHRONY HOME</td>\n",
       "      <td>2284.06</td>\n",
       "      <td>2.0</td>\n",
       "      <td>16</td>\n",
       "    </tr>\n",
       "    <tr>\n",
       "      <th>5418</th>\n",
       "      <td>31836</td>\n",
       "      <td>14043091.0</td>\n",
       "      <td>Auto</td>\n",
       "      <td>AMERICA'S TIRE/SYNCHRONY CAR CARE</td>\n",
       "      <td>742.78</td>\n",
       "      <td>3.0</td>\n",
       "      <td>35</td>\n",
       "    </tr>\n",
       "    <tr>\n",
       "      <th>5419</th>\n",
       "      <td>31843</td>\n",
       "      <td>90010413.0</td>\n",
       "      <td>Music</td>\n",
       "      <td>HOME DESIGN - CE/APPL</td>\n",
       "      <td>629.00</td>\n",
       "      <td>5.0</td>\n",
       "      <td>31</td>\n",
       "    </tr>\n",
       "    <tr>\n",
       "      <th>5420</th>\n",
       "      <td>31842</td>\n",
       "      <td>14023939.0</td>\n",
       "      <td>Auto</td>\n",
       "      <td>SYNCHRONY CAR CARE</td>\n",
       "      <td>696.52</td>\n",
       "      <td>3.0</td>\n",
       "      <td>5</td>\n",
       "    </tr>\n",
       "  </tbody>\n",
       "</table>\n",
       "</div>"
      ],
      "text/plain": [
       "      record         RID Client_Major_2_txt_cardh_minor_industry  \\\n",
       "5416   31819  14038407.0                                    Auto   \n",
       "5417   31831  30042204.0                             Electronics   \n",
       "5418   31836  14043091.0                                    Auto   \n",
       "5419   31843  90010413.0                                   Music   \n",
       "5420   31842  14023939.0                                    Auto   \n",
       "\n",
       "     Client_Major_2_txt_Client_Original  Client_Major_2_txt_amt_last_sale  \\\n",
       "5416            CARX/SYNCHRONY CAR CARE                            525.51   \n",
       "5417                     SYNCHRONY HOME                           2284.06   \n",
       "5418  AMERICA'S TIRE/SYNCHRONY CAR CARE                            742.78   \n",
       "5419              HOME DESIGN - CE/APPL                            629.00   \n",
       "5420                 SYNCHRONY CAR CARE                            696.52   \n",
       "\n",
       "      CH_Industry  Client Major  \n",
       "5416          3.0             9  \n",
       "5417          2.0            16  \n",
       "5418          3.0            35  \n",
       "5419          5.0            31  \n",
       "5420          3.0             5  "
      ]
     },
     "execution_count": 91,
     "metadata": {},
     "output_type": "execute_result"
    }
   ],
   "source": [
    "card.tail()"
   ]
  },
  {
   "cell_type": "code",
   "execution_count": 93,
   "metadata": {},
   "outputs": [],
   "source": [
    "# convert a list to dictionary using index as its key\n",
    "clientDict={i : uniqueList[i] for i in range(0, len(uniqueList))}"
   ]
  },
  {
   "cell_type": "code",
   "execution_count": 95,
   "metadata": {},
   "outputs": [],
   "source": [
    "#clientDict"
   ]
  },
  {
   "cell_type": "code",
   "execution_count": 73,
   "metadata": {},
   "outputs": [],
   "source": [
    "client_datamap=pd.DataFrame.from_dict(clientDict,orient='index')"
   ]
  },
  {
   "cell_type": "code",
   "execution_count": 75,
   "metadata": {},
   "outputs": [],
   "source": [
    "client_datamap.to_excel('client datamap.xlsx')"
   ]
  },
  {
   "cell_type": "code",
   "execution_count": 78,
   "metadata": {},
   "outputs": [],
   "source": [
    "card.to_excel('Cardholder categories recoded.xlsx', index=False)"
   ]
  }
 ],
 "metadata": {
  "kernelspec": {
   "display_name": "Python 3",
   "language": "python",
   "name": "python3"
  },
  "language_info": {
   "codemirror_mode": {
    "name": "ipython",
    "version": 3
   },
   "file_extension": ".py",
   "mimetype": "text/x-python",
   "name": "python",
   "nbconvert_exporter": "python",
   "pygments_lexer": "ipython3",
   "version": "3.6.4"
  }
 },
 "nbformat": 4,
 "nbformat_minor": 2
}
